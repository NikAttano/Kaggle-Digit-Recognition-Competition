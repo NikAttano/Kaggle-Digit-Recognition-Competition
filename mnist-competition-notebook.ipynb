{
 "cells": [
  {
   "cell_type": "code",
   "execution_count": 1,
   "id": "7c05153a",
   "metadata": {
    "_cell_guid": "b1076dfc-b9ad-4769-8c92-a6c4dae69d19",
    "_uuid": "8f2839f25d086af736a60e9eeb907d3b93b6e0e5",
    "execution": {
     "iopub.execute_input": "2022-05-01T17:18:56.661294Z",
     "iopub.status.busy": "2022-05-01T17:18:56.660086Z",
     "iopub.status.idle": "2022-05-01T17:18:56.676488Z",
     "shell.execute_reply": "2022-05-01T17:18:56.674981Z"
    },
    "papermill": {
     "duration": 0.042691,
     "end_time": "2022-05-01T17:18:56.678566",
     "exception": false,
     "start_time": "2022-05-01T17:18:56.635875",
     "status": "completed"
    },
    "tags": []
   },
   "outputs": [
    {
     "name": "stdout",
     "output_type": "stream",
     "text": [
      "/kaggle/input/digit-recognizer/sample_submission.csv\n",
      "/kaggle/input/digit-recognizer/train.csv\n",
      "/kaggle/input/digit-recognizer/test.csv\n"
     ]
    }
   ],
   "source": [
    "# This Python 3 environment comes with many helpful analytics libraries installed\n",
    "# It is defined by the kaggle/python Docker image: https://github.com/kaggle/docker-python\n",
    "# For example, here's several helpful packages to load\n",
    "\n",
    "import numpy as np # linear algebra\n",
    "import pandas as pd # data processing, CSV file I/O (e.g. pd.read_csv)\n",
    "\n",
    "# Input data files are available in the read-only \"../input/\" directory\n",
    "# For example, running this (by clicking run or pressing Shift+Enter) will list all files under the input directory\n",
    "\n",
    "import os\n",
    "for dirname, _, filenames in os.walk('/kaggle/input'):\n",
    "    for filename in filenames:\n",
    "        print(os.path.join(dirname, filename))\n",
    "\n",
    "# You can write up to 20GB to the current directory (/kaggle/working/) that gets preserved as output when you create a version using \"Save & Run All\" \n",
    "# You can also write temporary files to /kaggle/temp/, but they won't be saved outside of the current session"
   ]
  },
  {
   "cell_type": "markdown",
   "id": "164dcf14",
   "metadata": {
    "papermill": {
     "duration": 0.022436,
     "end_time": "2022-05-01T17:18:56.725411",
     "exception": false,
     "start_time": "2022-05-01T17:18:56.702975",
     "status": "completed"
    },
    "tags": []
   },
   "source": [
    "Importing packages here:"
   ]
  },
  {
   "cell_type": "code",
   "execution_count": 2,
   "id": "7a874a7b",
   "metadata": {
    "execution": {
     "iopub.execute_input": "2022-05-01T17:18:56.774634Z",
     "iopub.status.busy": "2022-05-01T17:18:56.774390Z",
     "iopub.status.idle": "2022-05-01T17:19:02.353929Z",
     "shell.execute_reply": "2022-05-01T17:19:02.352390Z"
    },
    "papermill": {
     "duration": 5.60659,
     "end_time": "2022-05-01T17:19:02.355973",
     "exception": false,
     "start_time": "2022-05-01T17:18:56.749383",
     "status": "completed"
    },
    "tags": []
   },
   "outputs": [],
   "source": [
    "import matplotlib.pyplot as plt\n",
    "from tensorflow import keras\n",
    "import tensorflow as tf"
   ]
  },
  {
   "cell_type": "code",
   "execution_count": 3,
   "id": "340e3e2d",
   "metadata": {
    "execution": {
     "iopub.execute_input": "2022-05-01T17:19:02.400768Z",
     "iopub.status.busy": "2022-05-01T17:19:02.400274Z",
     "iopub.status.idle": "2022-05-01T17:19:07.837590Z",
     "shell.execute_reply": "2022-05-01T17:19:07.836663Z"
    },
    "papermill": {
     "duration": 5.46181,
     "end_time": "2022-05-01T17:19:07.839492",
     "exception": false,
     "start_time": "2022-05-01T17:19:02.377682",
     "status": "completed"
    },
    "tags": []
   },
   "outputs": [
    {
     "data": {
      "text/html": [
       "<div>\n",
       "<style scoped>\n",
       "    .dataframe tbody tr th:only-of-type {\n",
       "        vertical-align: middle;\n",
       "    }\n",
       "\n",
       "    .dataframe tbody tr th {\n",
       "        vertical-align: top;\n",
       "    }\n",
       "\n",
       "    .dataframe thead th {\n",
       "        text-align: right;\n",
       "    }\n",
       "</style>\n",
       "<table border=\"1\" class=\"dataframe\">\n",
       "  <thead>\n",
       "    <tr style=\"text-align: right;\">\n",
       "      <th></th>\n",
       "      <th>label</th>\n",
       "      <th>pixel0</th>\n",
       "      <th>pixel1</th>\n",
       "      <th>pixel2</th>\n",
       "      <th>pixel3</th>\n",
       "      <th>pixel4</th>\n",
       "      <th>pixel5</th>\n",
       "      <th>pixel6</th>\n",
       "      <th>pixel7</th>\n",
       "      <th>pixel8</th>\n",
       "      <th>...</th>\n",
       "      <th>pixel774</th>\n",
       "      <th>pixel775</th>\n",
       "      <th>pixel776</th>\n",
       "      <th>pixel777</th>\n",
       "      <th>pixel778</th>\n",
       "      <th>pixel779</th>\n",
       "      <th>pixel780</th>\n",
       "      <th>pixel781</th>\n",
       "      <th>pixel782</th>\n",
       "      <th>pixel783</th>\n",
       "    </tr>\n",
       "  </thead>\n",
       "  <tbody>\n",
       "    <tr>\n",
       "      <th>0</th>\n",
       "      <td>1</td>\n",
       "      <td>0</td>\n",
       "      <td>0</td>\n",
       "      <td>0</td>\n",
       "      <td>0</td>\n",
       "      <td>0</td>\n",
       "      <td>0</td>\n",
       "      <td>0</td>\n",
       "      <td>0</td>\n",
       "      <td>0</td>\n",
       "      <td>...</td>\n",
       "      <td>0</td>\n",
       "      <td>0</td>\n",
       "      <td>0</td>\n",
       "      <td>0</td>\n",
       "      <td>0</td>\n",
       "      <td>0</td>\n",
       "      <td>0</td>\n",
       "      <td>0</td>\n",
       "      <td>0</td>\n",
       "      <td>0</td>\n",
       "    </tr>\n",
       "    <tr>\n",
       "      <th>1</th>\n",
       "      <td>0</td>\n",
       "      <td>0</td>\n",
       "      <td>0</td>\n",
       "      <td>0</td>\n",
       "      <td>0</td>\n",
       "      <td>0</td>\n",
       "      <td>0</td>\n",
       "      <td>0</td>\n",
       "      <td>0</td>\n",
       "      <td>0</td>\n",
       "      <td>...</td>\n",
       "      <td>0</td>\n",
       "      <td>0</td>\n",
       "      <td>0</td>\n",
       "      <td>0</td>\n",
       "      <td>0</td>\n",
       "      <td>0</td>\n",
       "      <td>0</td>\n",
       "      <td>0</td>\n",
       "      <td>0</td>\n",
       "      <td>0</td>\n",
       "    </tr>\n",
       "    <tr>\n",
       "      <th>2</th>\n",
       "      <td>1</td>\n",
       "      <td>0</td>\n",
       "      <td>0</td>\n",
       "      <td>0</td>\n",
       "      <td>0</td>\n",
       "      <td>0</td>\n",
       "      <td>0</td>\n",
       "      <td>0</td>\n",
       "      <td>0</td>\n",
       "      <td>0</td>\n",
       "      <td>...</td>\n",
       "      <td>0</td>\n",
       "      <td>0</td>\n",
       "      <td>0</td>\n",
       "      <td>0</td>\n",
       "      <td>0</td>\n",
       "      <td>0</td>\n",
       "      <td>0</td>\n",
       "      <td>0</td>\n",
       "      <td>0</td>\n",
       "      <td>0</td>\n",
       "    </tr>\n",
       "    <tr>\n",
       "      <th>3</th>\n",
       "      <td>4</td>\n",
       "      <td>0</td>\n",
       "      <td>0</td>\n",
       "      <td>0</td>\n",
       "      <td>0</td>\n",
       "      <td>0</td>\n",
       "      <td>0</td>\n",
       "      <td>0</td>\n",
       "      <td>0</td>\n",
       "      <td>0</td>\n",
       "      <td>...</td>\n",
       "      <td>0</td>\n",
       "      <td>0</td>\n",
       "      <td>0</td>\n",
       "      <td>0</td>\n",
       "      <td>0</td>\n",
       "      <td>0</td>\n",
       "      <td>0</td>\n",
       "      <td>0</td>\n",
       "      <td>0</td>\n",
       "      <td>0</td>\n",
       "    </tr>\n",
       "    <tr>\n",
       "      <th>4</th>\n",
       "      <td>0</td>\n",
       "      <td>0</td>\n",
       "      <td>0</td>\n",
       "      <td>0</td>\n",
       "      <td>0</td>\n",
       "      <td>0</td>\n",
       "      <td>0</td>\n",
       "      <td>0</td>\n",
       "      <td>0</td>\n",
       "      <td>0</td>\n",
       "      <td>...</td>\n",
       "      <td>0</td>\n",
       "      <td>0</td>\n",
       "      <td>0</td>\n",
       "      <td>0</td>\n",
       "      <td>0</td>\n",
       "      <td>0</td>\n",
       "      <td>0</td>\n",
       "      <td>0</td>\n",
       "      <td>0</td>\n",
       "      <td>0</td>\n",
       "    </tr>\n",
       "  </tbody>\n",
       "</table>\n",
       "<p>5 rows × 785 columns</p>\n",
       "</div>"
      ],
      "text/plain": [
       "   label  pixel0  pixel1  pixel2  pixel3  pixel4  pixel5  pixel6  pixel7  \\\n",
       "0      1       0       0       0       0       0       0       0       0   \n",
       "1      0       0       0       0       0       0       0       0       0   \n",
       "2      1       0       0       0       0       0       0       0       0   \n",
       "3      4       0       0       0       0       0       0       0       0   \n",
       "4      0       0       0       0       0       0       0       0       0   \n",
       "\n",
       "   pixel8  ...  pixel774  pixel775  pixel776  pixel777  pixel778  pixel779  \\\n",
       "0       0  ...         0         0         0         0         0         0   \n",
       "1       0  ...         0         0         0         0         0         0   \n",
       "2       0  ...         0         0         0         0         0         0   \n",
       "3       0  ...         0         0         0         0         0         0   \n",
       "4       0  ...         0         0         0         0         0         0   \n",
       "\n",
       "   pixel780  pixel781  pixel782  pixel783  \n",
       "0         0         0         0         0  \n",
       "1         0         0         0         0  \n",
       "2         0         0         0         0  \n",
       "3         0         0         0         0  \n",
       "4         0         0         0         0  \n",
       "\n",
       "[5 rows x 785 columns]"
      ]
     },
     "execution_count": 3,
     "metadata": {},
     "output_type": "execute_result"
    }
   ],
   "source": [
    "train_df = pd.read_csv('../input/digit-recognizer/train.csv')\n",
    "test_df = pd.read_csv('../input/digit-recognizer/test.csv')\n",
    "train_df.head()\n",
    "# test_df.head()"
   ]
  },
  {
   "cell_type": "markdown",
   "id": "b6890353",
   "metadata": {
    "papermill": {
     "duration": 0.034668,
     "end_time": "2022-05-01T17:19:07.897430",
     "exception": false,
     "start_time": "2022-05-01T17:19:07.862762",
     "status": "completed"
    },
    "tags": []
   },
   "source": [
    "Extracting labels from train dataframe"
   ]
  },
  {
   "cell_type": "code",
   "execution_count": 4,
   "id": "4994cb3b",
   "metadata": {
    "execution": {
     "iopub.execute_input": "2022-05-01T17:19:07.967262Z",
     "iopub.status.busy": "2022-05-01T17:19:07.967011Z",
     "iopub.status.idle": "2022-05-01T17:19:08.045187Z",
     "shell.execute_reply": "2022-05-01T17:19:08.044039Z"
    },
    "papermill": {
     "duration": 0.114632,
     "end_time": "2022-05-01T17:19:08.047079",
     "exception": false,
     "start_time": "2022-05-01T17:19:07.932447",
     "status": "completed"
    },
    "tags": []
   },
   "outputs": [
    {
     "data": {
      "text/html": [
       "<div>\n",
       "<style scoped>\n",
       "    .dataframe tbody tr th:only-of-type {\n",
       "        vertical-align: middle;\n",
       "    }\n",
       "\n",
       "    .dataframe tbody tr th {\n",
       "        vertical-align: top;\n",
       "    }\n",
       "\n",
       "    .dataframe thead th {\n",
       "        text-align: right;\n",
       "    }\n",
       "</style>\n",
       "<table border=\"1\" class=\"dataframe\">\n",
       "  <thead>\n",
       "    <tr style=\"text-align: right;\">\n",
       "      <th></th>\n",
       "      <th>pixel0</th>\n",
       "      <th>pixel1</th>\n",
       "      <th>pixel2</th>\n",
       "      <th>pixel3</th>\n",
       "      <th>pixel4</th>\n",
       "      <th>pixel5</th>\n",
       "      <th>pixel6</th>\n",
       "      <th>pixel7</th>\n",
       "      <th>pixel8</th>\n",
       "      <th>pixel9</th>\n",
       "      <th>...</th>\n",
       "      <th>pixel774</th>\n",
       "      <th>pixel775</th>\n",
       "      <th>pixel776</th>\n",
       "      <th>pixel777</th>\n",
       "      <th>pixel778</th>\n",
       "      <th>pixel779</th>\n",
       "      <th>pixel780</th>\n",
       "      <th>pixel781</th>\n",
       "      <th>pixel782</th>\n",
       "      <th>pixel783</th>\n",
       "    </tr>\n",
       "  </thead>\n",
       "  <tbody>\n",
       "    <tr>\n",
       "      <th>0</th>\n",
       "      <td>0</td>\n",
       "      <td>0</td>\n",
       "      <td>0</td>\n",
       "      <td>0</td>\n",
       "      <td>0</td>\n",
       "      <td>0</td>\n",
       "      <td>0</td>\n",
       "      <td>0</td>\n",
       "      <td>0</td>\n",
       "      <td>0</td>\n",
       "      <td>...</td>\n",
       "      <td>0</td>\n",
       "      <td>0</td>\n",
       "      <td>0</td>\n",
       "      <td>0</td>\n",
       "      <td>0</td>\n",
       "      <td>0</td>\n",
       "      <td>0</td>\n",
       "      <td>0</td>\n",
       "      <td>0</td>\n",
       "      <td>0</td>\n",
       "    </tr>\n",
       "    <tr>\n",
       "      <th>1</th>\n",
       "      <td>0</td>\n",
       "      <td>0</td>\n",
       "      <td>0</td>\n",
       "      <td>0</td>\n",
       "      <td>0</td>\n",
       "      <td>0</td>\n",
       "      <td>0</td>\n",
       "      <td>0</td>\n",
       "      <td>0</td>\n",
       "      <td>0</td>\n",
       "      <td>...</td>\n",
       "      <td>0</td>\n",
       "      <td>0</td>\n",
       "      <td>0</td>\n",
       "      <td>0</td>\n",
       "      <td>0</td>\n",
       "      <td>0</td>\n",
       "      <td>0</td>\n",
       "      <td>0</td>\n",
       "      <td>0</td>\n",
       "      <td>0</td>\n",
       "    </tr>\n",
       "    <tr>\n",
       "      <th>2</th>\n",
       "      <td>0</td>\n",
       "      <td>0</td>\n",
       "      <td>0</td>\n",
       "      <td>0</td>\n",
       "      <td>0</td>\n",
       "      <td>0</td>\n",
       "      <td>0</td>\n",
       "      <td>0</td>\n",
       "      <td>0</td>\n",
       "      <td>0</td>\n",
       "      <td>...</td>\n",
       "      <td>0</td>\n",
       "      <td>0</td>\n",
       "      <td>0</td>\n",
       "      <td>0</td>\n",
       "      <td>0</td>\n",
       "      <td>0</td>\n",
       "      <td>0</td>\n",
       "      <td>0</td>\n",
       "      <td>0</td>\n",
       "      <td>0</td>\n",
       "    </tr>\n",
       "    <tr>\n",
       "      <th>3</th>\n",
       "      <td>0</td>\n",
       "      <td>0</td>\n",
       "      <td>0</td>\n",
       "      <td>0</td>\n",
       "      <td>0</td>\n",
       "      <td>0</td>\n",
       "      <td>0</td>\n",
       "      <td>0</td>\n",
       "      <td>0</td>\n",
       "      <td>0</td>\n",
       "      <td>...</td>\n",
       "      <td>0</td>\n",
       "      <td>0</td>\n",
       "      <td>0</td>\n",
       "      <td>0</td>\n",
       "      <td>0</td>\n",
       "      <td>0</td>\n",
       "      <td>0</td>\n",
       "      <td>0</td>\n",
       "      <td>0</td>\n",
       "      <td>0</td>\n",
       "    </tr>\n",
       "    <tr>\n",
       "      <th>4</th>\n",
       "      <td>0</td>\n",
       "      <td>0</td>\n",
       "      <td>0</td>\n",
       "      <td>0</td>\n",
       "      <td>0</td>\n",
       "      <td>0</td>\n",
       "      <td>0</td>\n",
       "      <td>0</td>\n",
       "      <td>0</td>\n",
       "      <td>0</td>\n",
       "      <td>...</td>\n",
       "      <td>0</td>\n",
       "      <td>0</td>\n",
       "      <td>0</td>\n",
       "      <td>0</td>\n",
       "      <td>0</td>\n",
       "      <td>0</td>\n",
       "      <td>0</td>\n",
       "      <td>0</td>\n",
       "      <td>0</td>\n",
       "      <td>0</td>\n",
       "    </tr>\n",
       "  </tbody>\n",
       "</table>\n",
       "<p>5 rows × 784 columns</p>\n",
       "</div>"
      ],
      "text/plain": [
       "   pixel0  pixel1  pixel2  pixel3  pixel4  pixel5  pixel6  pixel7  pixel8  \\\n",
       "0       0       0       0       0       0       0       0       0       0   \n",
       "1       0       0       0       0       0       0       0       0       0   \n",
       "2       0       0       0       0       0       0       0       0       0   \n",
       "3       0       0       0       0       0       0       0       0       0   \n",
       "4       0       0       0       0       0       0       0       0       0   \n",
       "\n",
       "   pixel9  ...  pixel774  pixel775  pixel776  pixel777  pixel778  pixel779  \\\n",
       "0       0  ...         0         0         0         0         0         0   \n",
       "1       0  ...         0         0         0         0         0         0   \n",
       "2       0  ...         0         0         0         0         0         0   \n",
       "3       0  ...         0         0         0         0         0         0   \n",
       "4       0  ...         0         0         0         0         0         0   \n",
       "\n",
       "   pixel780  pixel781  pixel782  pixel783  \n",
       "0         0         0         0         0  \n",
       "1         0         0         0         0  \n",
       "2         0         0         0         0  \n",
       "3         0         0         0         0  \n",
       "4         0         0         0         0  \n",
       "\n",
       "[5 rows x 784 columns]"
      ]
     },
     "execution_count": 4,
     "metadata": {},
     "output_type": "execute_result"
    }
   ],
   "source": [
    "train_labels = train_df['label']\n",
    "train_df.drop(['label'], axis = 1, inplace = True)\n",
    "train_df.head()"
   ]
  },
  {
   "cell_type": "markdown",
   "id": "a4140961",
   "metadata": {
    "papermill": {
     "duration": 0.034973,
     "end_time": "2022-05-01T17:19:08.118628",
     "exception": false,
     "start_time": "2022-05-01T17:19:08.083655",
     "status": "completed"
    },
    "tags": []
   },
   "source": [
    "train and test images are extracted here"
   ]
  },
  {
   "cell_type": "code",
   "execution_count": 5,
   "id": "8bcdf3be",
   "metadata": {
    "execution": {
     "iopub.execute_input": "2022-05-01T17:19:08.189493Z",
     "iopub.status.busy": "2022-05-01T17:19:08.189237Z",
     "iopub.status.idle": "2022-05-01T17:19:08.195281Z",
     "shell.execute_reply": "2022-05-01T17:19:08.194278Z"
    },
    "papermill": {
     "duration": 0.043831,
     "end_time": "2022-05-01T17:19:08.197081",
     "exception": false,
     "start_time": "2022-05-01T17:19:08.153250",
     "status": "completed"
    },
    "tags": []
   },
   "outputs": [],
   "source": [
    "train_images = train_df.iloc[:, :].values.reshape(-1, 28, 28, 1)\n",
    "test_images = test_df.iloc[:, :].values.reshape(-1, 28, 28, 1)"
   ]
  },
  {
   "cell_type": "code",
   "execution_count": 6,
   "id": "65781d4c",
   "metadata": {
    "execution": {
     "iopub.execute_input": "2022-05-01T17:19:08.243426Z",
     "iopub.status.busy": "2022-05-01T17:19:08.243126Z",
     "iopub.status.idle": "2022-05-01T17:19:08.248184Z",
     "shell.execute_reply": "2022-05-01T17:19:08.247194Z"
    },
    "papermill": {
     "duration": 0.031537,
     "end_time": "2022-05-01T17:19:08.251158",
     "exception": false,
     "start_time": "2022-05-01T17:19:08.219621",
     "status": "completed"
    },
    "tags": []
   },
   "outputs": [
    {
     "name": "stdout",
     "output_type": "stream",
     "text": [
      "(42000, 28, 28, 1)\n",
      "(28000, 28, 28, 1)\n"
     ]
    }
   ],
   "source": [
    "print(train_images.shape)\n",
    "print(test_images.shape)"
   ]
  },
  {
   "cell_type": "markdown",
   "id": "bc810ef1",
   "metadata": {
    "papermill": {
     "duration": 0.023931,
     "end_time": "2022-05-01T17:19:08.298545",
     "exception": false,
     "start_time": "2022-05-01T17:19:08.274614",
     "status": "completed"
    },
    "tags": []
   },
   "source": [
    "We can see 42,000 train images and 28,000 test images."
   ]
  },
  {
   "cell_type": "markdown",
   "id": "aa01f347",
   "metadata": {
    "papermill": {
     "duration": 0.022413,
     "end_time": "2022-05-01T17:19:08.343894",
     "exception": false,
     "start_time": "2022-05-01T17:19:08.321481",
     "status": "completed"
    },
    "tags": []
   },
   "source": [
    "Let us plot some of the images from test set"
   ]
  },
  {
   "cell_type": "code",
   "execution_count": 7,
   "id": "b350934d",
   "metadata": {
    "execution": {
     "iopub.execute_input": "2022-05-01T17:19:08.391509Z",
     "iopub.status.busy": "2022-05-01T17:19:08.391235Z",
     "iopub.status.idle": "2022-05-01T17:19:08.589444Z",
     "shell.execute_reply": "2022-05-01T17:19:08.588574Z"
    },
    "papermill": {
     "duration": 0.225826,
     "end_time": "2022-05-01T17:19:08.592292",
     "exception": false,
     "start_time": "2022-05-01T17:19:08.366466",
     "status": "completed"
    },
    "tags": []
   },
   "outputs": [
    {
     "data": {
      "image/png": "[encoded data removed]",
      "text/plain": [
       "<Figure size 432x288 with 2 Axes>"
      ]
     },
     "metadata": {
      "needs_background": "light"
     },
     "output_type": "display_data"
    },
    {
     "name": "stdout",
     "output_type": "stream",
     "text": [
      "Label :1\n"
     ]
    }
   ],
   "source": [
    "plt.figure()\n",
    "plt.imshow(train_images[2])\n",
    "plt.colorbar()\n",
    "plt.show()\n",
    "print(\"Label :\" + str(train_labels[2]))"
   ]
  },
  {
   "cell_type": "markdown",
   "id": "a2ed4343",
   "metadata": {
    "papermill": {
     "duration": 0.03672,
     "end_time": "2022-05-01T17:19:08.667093",
     "exception": false,
     "start_time": "2022-05-01T17:19:08.630373",
     "status": "completed"
    },
    "tags": []
   },
   "source": [
    "Preprocessing the images"
   ]
  },
  {
   "cell_type": "code",
   "execution_count": 8,
   "id": "d07aac4e",
   "metadata": {
    "execution": {
     "iopub.execute_input": "2022-05-01T17:19:08.742685Z",
     "iopub.status.busy": "2022-05-01T17:19:08.742404Z",
     "iopub.status.idle": "2022-05-01T17:19:08.858700Z",
     "shell.execute_reply": "2022-05-01T17:19:08.857961Z"
    },
    "papermill": {
     "duration": 0.157138,
     "end_time": "2022-05-01T17:19:08.861379",
     "exception": false,
     "start_time": "2022-05-01T17:19:08.704241",
     "status": "completed"
    },
    "tags": []
   },
   "outputs": [],
   "source": [
    "train_images = train_images / 255.0\n",
    "test_images = test_images / 255.0"
   ]
  },
  {
   "cell_type": "markdown",
   "id": "b53f1f47",
   "metadata": {
    "papermill": {
     "duration": 0.036429,
     "end_time": "2022-05-01T17:19:08.935518",
     "exception": false,
     "start_time": "2022-05-01T17:19:08.899089",
     "status": "completed"
    },
    "tags": []
   },
   "source": [
    "Constructing a sequential model"
   ]
  },
  {
   "cell_type": "markdown",
   "id": "3393190f",
   "metadata": {
    "papermill": {
     "duration": 0.035876,
     "end_time": "2022-05-01T17:19:09.007247",
     "exception": false,
     "start_time": "2022-05-01T17:19:08.971371",
     "status": "completed"
    },
    "tags": []
   },
   "source": [
    "Since the digits are from 0 - 9 we have 10 as softmax activation for 10 classes"
   ]
  },
  {
   "cell_type": "code",
   "execution_count": 9,
   "id": "c1536c8d",
   "metadata": {
    "execution": {
     "iopub.execute_input": "2022-05-01T17:19:09.082032Z",
     "iopub.status.busy": "2022-05-01T17:19:09.081707Z",
     "iopub.status.idle": "2022-05-01T17:19:10.348074Z",
     "shell.execute_reply": "2022-05-01T17:19:10.347106Z"
    },
    "papermill": {
     "duration": 1.306027,
     "end_time": "2022-05-01T17:19:10.349952",
     "exception": false,
     "start_time": "2022-05-01T17:19:09.043925",
     "status": "completed"
    },
    "tags": []
   },
   "outputs": [
    {
     "name": "stderr",
     "output_type": "stream",
     "text": [
      "2022-05-01 17:19:10.246999: I tensorflow/core/common_runtime/process_util.cc:146] Creating new thread pool with default inter op setting: 2. Tune using inter_op_parallelism_threads for best performance.\n"
     ]
    }
   ],
   "source": [
    "model = keras.Sequential([ keras.layers.Flatten(input_shape = (28, 28)),\n",
    "                           keras.layers.Dense(256, activation = tf.nn.relu),\n",
    "                           keras.layers.Dense(128, activation = tf.nn.relu),\n",
    "                           keras.layers.Dense(64, activation = tf.nn.relu),\n",
    "                           keras.layers.Dense(10, activation = tf.nn.softmax)])"
   ]
  },
  {
   "cell_type": "markdown",
   "id": "0987ee16",
   "metadata": {
    "papermill": {
     "duration": 0.023857,
     "end_time": "2022-05-01T17:19:10.398022",
     "exception": false,
     "start_time": "2022-05-01T17:19:10.374165",
     "status": "completed"
    },
    "tags": []
   },
   "source": [
    "Compiling model with adam and using sparse categorical entropy"
   ]
  },
  {
   "cell_type": "code",
   "execution_count": 10,
   "id": "1208d5c5",
   "metadata": {
    "execution": {
     "iopub.execute_input": "2022-05-01T17:19:10.447849Z",
     "iopub.status.busy": "2022-05-01T17:19:10.447559Z",
     "iopub.status.idle": "2022-05-01T17:19:10.460171Z",
     "shell.execute_reply": "2022-05-01T17:19:10.459646Z"
    },
    "papermill": {
     "duration": 0.040141,
     "end_time": "2022-05-01T17:19:10.462038",
     "exception": false,
     "start_time": "2022-05-01T17:19:10.421897",
     "status": "completed"
    },
    "tags": []
   },
   "outputs": [],
   "source": [
    "model.compile(optimizer = 'adam', loss = 'sparse_categorical_crossentropy', metrics = ['accuracy'])"
   ]
  },
  {
   "cell_type": "code",
   "execution_count": 11,
   "id": "fab6233b",
   "metadata": {
    "execution": {
     "iopub.execute_input": "2022-05-01T17:19:10.538618Z",
     "iopub.status.busy": "2022-05-01T17:19:10.538192Z",
     "iopub.status.idle": "2022-05-01T17:19:52.296111Z",
     "shell.execute_reply": "2022-05-01T17:19:52.295103Z"
    },
    "papermill": {
     "duration": 42.076139,
     "end_time": "2022-05-01T17:19:52.576052",
     "exception": false,
     "start_time": "2022-05-01T17:19:10.499913",
     "status": "completed"
    },
    "tags": []
   },
   "outputs": [
    {
     "name": "stderr",
     "output_type": "stream",
     "text": [
      "2022-05-01 17:19:10.727298: I tensorflow/compiler/mlir/mlir_graph_optimization_pass.cc:185] None of the MLIR Optimization Passes are enabled (registered 2)\n"
     ]
    },
    {
     "name": "stdout",
     "output_type": "stream",
     "text": [
      "Epoch 1/5\n",
      "1313/1313 [==============================] - 6s 4ms/step - loss: 0.2467 - accuracy: 0.9246\n",
      "Epoch 2/5\n",
      "1313/1313 [==============================] - 5s 4ms/step - loss: 0.1013 - accuracy: 0.9680\n",
      "Epoch 3/5\n",
      "1313/1313 [==============================] - 5s 4ms/step - loss: 0.0682 - accuracy: 0.9790\n",
      "Epoch 4/5\n",
      "1313/1313 [==============================] - 6s 4ms/step - loss: 0.0502 - accuracy: 0.9835\n",
      "Epoch 5/5\n",
      "1313/1313 [==============================] - 5s 4ms/step - loss: 0.0430 - accuracy: 0.9856\n"
     ]
    },
    {
     "data": {
      "text/plain": [
       "<keras.callbacks.History at 0x7f07496cab10>"
      ]
     },
     "execution_count": 11,
     "metadata": {},
     "output_type": "execute_result"
    }
   ],
   "source": [
    "model.fit(train_images, train_labels, epochs = 5)"
   ]
  },
  {
   "cell_type": "markdown",
   "id": "023cd1c2",
   "metadata": {
    "papermill": {
     "duration": 0.283809,
     "end_time": "2022-05-01T17:19:53.140844",
     "exception": false,
     "start_time": "2022-05-01T17:19:52.857035",
     "status": "completed"
    },
    "tags": []
   },
   "source": [
    "Now predicting the classes for test images"
   ]
  },
  {
   "cell_type": "code",
   "execution_count": 12,
   "id": "50e0168e",
   "metadata": {
    "execution": {
     "iopub.execute_input": "2022-05-01T17:19:53.704486Z",
     "iopub.status.busy": "2022-05-01T17:19:53.704232Z",
     "iopub.status.idle": "2022-05-01T17:19:55.650373Z",
     "shell.execute_reply": "2022-05-01T17:19:55.649605Z"
    },
    "papermill": {
     "duration": 2.230233,
     "end_time": "2022-05-01T17:19:55.652903",
     "exception": false,
     "start_time": "2022-05-01T17:19:53.422670",
     "status": "completed"
    },
    "tags": []
   },
   "outputs": [
    {
     "data": {
      "text/plain": [
       "array([9.99994040e-01, 1.08667884e-07, 1.53075234e-07, 1.29443567e-09,\n",
       "       2.65421152e-09, 9.08468678e-08, 4.11604879e-06, 7.74905743e-07,\n",
       "       1.52103237e-08, 6.43028727e-07], dtype=float32)"
      ]
     },
     "execution_count": 12,
     "metadata": {},
     "output_type": "execute_result"
    }
   ],
   "source": [
    "preds = model.predict(test_images)\n",
    "preds[1]"
   ]
  },
  {
   "cell_type": "markdown",
   "id": "bd29c2de",
   "metadata": {
    "papermill": {
     "duration": 0.181096,
     "end_time": "2022-05-01T17:19:56.021023",
     "exception": false,
     "start_time": "2022-05-01T17:19:55.839927",
     "status": "completed"
    },
    "tags": []
   },
   "source": [
    "Looking at label of the predicted image"
   ]
  },
  {
   "cell_type": "code",
   "execution_count": 13,
   "id": "09c88c89",
   "metadata": {
    "execution": {
     "iopub.execute_input": "2022-05-01T17:19:56.392718Z",
     "iopub.status.busy": "2022-05-01T17:19:56.392263Z",
     "iopub.status.idle": "2022-05-01T17:19:56.396939Z",
     "shell.execute_reply": "2022-05-01T17:19:56.395647Z"
    },
    "papermill": {
     "duration": 0.19215,
     "end_time": "2022-05-01T17:19:56.399267",
     "exception": false,
     "start_time": "2022-05-01T17:19:56.207117",
     "status": "completed"
    },
    "tags": []
   },
   "outputs": [
    {
     "name": "stdout",
     "output_type": "stream",
     "text": [
      "0\n"
     ]
    }
   ],
   "source": [
    "print(np.argmax(preds[1]))"
   ]
  },
  {
   "cell_type": "markdown",
   "id": "8cac7b98",
   "metadata": {
    "papermill": {
     "duration": 0.18446,
     "end_time": "2022-05-01T17:19:56.769156",
     "exception": false,
     "start_time": "2022-05-01T17:19:56.584696",
     "status": "completed"
    },
    "tags": []
   },
   "source": [
    "Looking at sample submission"
   ]
  },
  {
   "cell_type": "code",
   "execution_count": 14,
   "id": "0ba8aa00",
   "metadata": {
    "execution": {
     "iopub.execute_input": "2022-05-01T17:19:57.148314Z",
     "iopub.status.busy": "2022-05-01T17:19:57.147263Z",
     "iopub.status.idle": "2022-05-01T17:19:57.172660Z",
     "shell.execute_reply": "2022-05-01T17:19:57.171863Z"
    },
    "papermill": {
     "duration": 0.217208,
     "end_time": "2022-05-01T17:19:57.174871",
     "exception": false,
     "start_time": "2022-05-01T17:19:56.957663",
     "status": "completed"
    },
    "tags": []
   },
   "outputs": [
    {
     "data": {
      "text/html": [
       "<div>\n",
       "<style scoped>\n",
       "    .dataframe tbody tr th:only-of-type {\n",
       "        vertical-align: middle;\n",
       "    }\n",
       "\n",
       "    .dataframe tbody tr th {\n",
       "        vertical-align: top;\n",
       "    }\n",
       "\n",
       "    .dataframe thead th {\n",
       "        text-align: right;\n",
       "    }\n",
       "</style>\n",
       "<table border=\"1\" class=\"dataframe\">\n",
       "  <thead>\n",
       "    <tr style=\"text-align: right;\">\n",
       "      <th></th>\n",
       "      <th>ImageId</th>\n",
       "      <th>Label</th>\n",
       "    </tr>\n",
       "  </thead>\n",
       "  <tbody>\n",
       "    <tr>\n",
       "      <th>0</th>\n",
       "      <td>1</td>\n",
       "      <td>0</td>\n",
       "    </tr>\n",
       "    <tr>\n",
       "      <th>1</th>\n",
       "      <td>2</td>\n",
       "      <td>0</td>\n",
       "    </tr>\n",
       "    <tr>\n",
       "      <th>2</th>\n",
       "      <td>3</td>\n",
       "      <td>0</td>\n",
       "    </tr>\n",
       "    <tr>\n",
       "      <th>3</th>\n",
       "      <td>4</td>\n",
       "      <td>0</td>\n",
       "    </tr>\n",
       "    <tr>\n",
       "      <th>4</th>\n",
       "      <td>5</td>\n",
       "      <td>0</td>\n",
       "    </tr>\n",
       "  </tbody>\n",
       "</table>\n",
       "</div>"
      ],
      "text/plain": [
       "   ImageId  Label\n",
       "0        1      0\n",
       "1        2      0\n",
       "2        3      0\n",
       "3        4      0\n",
       "4        5      0"
      ]
     },
     "execution_count": 14,
     "metadata": {},
     "output_type": "execute_result"
    }
   ],
   "source": [
    "samp_df = pd.read_csv('../input/digit-recognizer/sample_submission.csv')\n",
    "samp_df.head()"
   ]
  },
  {
   "cell_type": "code",
   "execution_count": 15,
   "id": "6b702bd1",
   "metadata": {
    "execution": {
     "iopub.execute_input": "2022-05-01T17:19:57.749303Z",
     "iopub.status.busy": "2022-05-01T17:19:57.748918Z",
     "iopub.status.idle": "2022-05-01T17:19:57.753995Z",
     "shell.execute_reply": "2022-05-01T17:19:57.753043Z"
    },
    "papermill": {
     "duration": 0.293571,
     "end_time": "2022-05-01T17:19:57.756085",
     "exception": false,
     "start_time": "2022-05-01T17:19:57.462514",
     "status": "completed"
    },
    "tags": []
   },
   "outputs": [
    {
     "name": "stdout",
     "output_type": "stream",
     "text": [
      "0\n"
     ]
    }
   ],
   "source": [
    "print(samp_df['Label'][1])"
   ]
  },
  {
   "cell_type": "code",
   "execution_count": 16,
   "id": "9b08a4d1",
   "metadata": {
    "execution": {
     "iopub.execute_input": "2022-05-01T17:19:58.331991Z",
     "iopub.status.busy": "2022-05-01T17:19:58.331128Z",
     "iopub.status.idle": "2022-05-01T17:19:58.347848Z",
     "shell.execute_reply": "2022-05-01T17:19:58.347208Z"
    },
    "papermill": {
     "duration": 0.305547,
     "end_time": "2022-05-01T17:19:58.349947",
     "exception": false,
     "start_time": "2022-05-01T17:19:58.044400",
     "status": "completed"
    },
    "tags": []
   },
   "outputs": [
    {
     "data": {
      "text/html": [
       "<div>\n",
       "<style scoped>\n",
       "    .dataframe tbody tr th:only-of-type {\n",
       "        vertical-align: middle;\n",
       "    }\n",
       "\n",
       "    .dataframe tbody tr th {\n",
       "        vertical-align: top;\n",
       "    }\n",
       "\n",
       "    .dataframe thead th {\n",
       "        text-align: right;\n",
       "    }\n",
       "</style>\n",
       "<table border=\"1\" class=\"dataframe\">\n",
       "  <thead>\n",
       "    <tr style=\"text-align: right;\">\n",
       "      <th></th>\n",
       "      <th>pixel0</th>\n",
       "      <th>pixel1</th>\n",
       "      <th>pixel2</th>\n",
       "      <th>pixel3</th>\n",
       "      <th>pixel4</th>\n",
       "      <th>pixel5</th>\n",
       "      <th>pixel6</th>\n",
       "      <th>pixel7</th>\n",
       "      <th>pixel8</th>\n",
       "      <th>pixel9</th>\n",
       "      <th>...</th>\n",
       "      <th>pixel774</th>\n",
       "      <th>pixel775</th>\n",
       "      <th>pixel776</th>\n",
       "      <th>pixel777</th>\n",
       "      <th>pixel778</th>\n",
       "      <th>pixel779</th>\n",
       "      <th>pixel780</th>\n",
       "      <th>pixel781</th>\n",
       "      <th>pixel782</th>\n",
       "      <th>pixel783</th>\n",
       "    </tr>\n",
       "  </thead>\n",
       "  <tbody>\n",
       "    <tr>\n",
       "      <th>0</th>\n",
       "      <td>0</td>\n",
       "      <td>0</td>\n",
       "      <td>0</td>\n",
       "      <td>0</td>\n",
       "      <td>0</td>\n",
       "      <td>0</td>\n",
       "      <td>0</td>\n",
       "      <td>0</td>\n",
       "      <td>0</td>\n",
       "      <td>0</td>\n",
       "      <td>...</td>\n",
       "      <td>0</td>\n",
       "      <td>0</td>\n",
       "      <td>0</td>\n",
       "      <td>0</td>\n",
       "      <td>0</td>\n",
       "      <td>0</td>\n",
       "      <td>0</td>\n",
       "      <td>0</td>\n",
       "      <td>0</td>\n",
       "      <td>0</td>\n",
       "    </tr>\n",
       "    <tr>\n",
       "      <th>1</th>\n",
       "      <td>0</td>\n",
       "      <td>0</td>\n",
       "      <td>0</td>\n",
       "      <td>0</td>\n",
       "      <td>0</td>\n",
       "      <td>0</td>\n",
       "      <td>0</td>\n",
       "      <td>0</td>\n",
       "      <td>0</td>\n",
       "      <td>0</td>\n",
       "      <td>...</td>\n",
       "      <td>0</td>\n",
       "      <td>0</td>\n",
       "      <td>0</td>\n",
       "      <td>0</td>\n",
       "      <td>0</td>\n",
       "      <td>0</td>\n",
       "      <td>0</td>\n",
       "      <td>0</td>\n",
       "      <td>0</td>\n",
       "      <td>0</td>\n",
       "    </tr>\n",
       "    <tr>\n",
       "      <th>2</th>\n",
       "      <td>0</td>\n",
       "      <td>0</td>\n",
       "      <td>0</td>\n",
       "      <td>0</td>\n",
       "      <td>0</td>\n",
       "      <td>0</td>\n",
       "      <td>0</td>\n",
       "      <td>0</td>\n",
       "      <td>0</td>\n",
       "      <td>0</td>\n",
       "      <td>...</td>\n",
       "      <td>0</td>\n",
       "      <td>0</td>\n",
       "      <td>0</td>\n",
       "      <td>0</td>\n",
       "      <td>0</td>\n",
       "      <td>0</td>\n",
       "      <td>0</td>\n",
       "      <td>0</td>\n",
       "      <td>0</td>\n",
       "      <td>0</td>\n",
       "    </tr>\n",
       "    <tr>\n",
       "      <th>3</th>\n",
       "      <td>0</td>\n",
       "      <td>0</td>\n",
       "      <td>0</td>\n",
       "      <td>0</td>\n",
       "      <td>0</td>\n",
       "      <td>0</td>\n",
       "      <td>0</td>\n",
       "      <td>0</td>\n",
       "      <td>0</td>\n",
       "      <td>0</td>\n",
       "      <td>...</td>\n",
       "      <td>0</td>\n",
       "      <td>0</td>\n",
       "      <td>0</td>\n",
       "      <td>0</td>\n",
       "      <td>0</td>\n",
       "      <td>0</td>\n",
       "      <td>0</td>\n",
       "      <td>0</td>\n",
       "      <td>0</td>\n",
       "      <td>0</td>\n",
       "    </tr>\n",
       "    <tr>\n",
       "      <th>4</th>\n",
       "      <td>0</td>\n",
       "      <td>0</td>\n",
       "      <td>0</td>\n",
       "      <td>0</td>\n",
       "      <td>0</td>\n",
       "      <td>0</td>\n",
       "      <td>0</td>\n",
       "      <td>0</td>\n",
       "      <td>0</td>\n",
       "      <td>0</td>\n",
       "      <td>...</td>\n",
       "      <td>0</td>\n",
       "      <td>0</td>\n",
       "      <td>0</td>\n",
       "      <td>0</td>\n",
       "      <td>0</td>\n",
       "      <td>0</td>\n",
       "      <td>0</td>\n",
       "      <td>0</td>\n",
       "      <td>0</td>\n",
       "      <td>0</td>\n",
       "    </tr>\n",
       "  </tbody>\n",
       "</table>\n",
       "<p>5 rows × 784 columns</p>\n",
       "</div>"
      ],
      "text/plain": [
       "   pixel0  pixel1  pixel2  pixel3  pixel4  pixel5  pixel6  pixel7  pixel8  \\\n",
       "0       0       0       0       0       0       0       0       0       0   \n",
       "1       0       0       0       0       0       0       0       0       0   \n",
       "2       0       0       0       0       0       0       0       0       0   \n",
       "3       0       0       0       0       0       0       0       0       0   \n",
       "4       0       0       0       0       0       0       0       0       0   \n",
       "\n",
       "   pixel9  ...  pixel774  pixel775  pixel776  pixel777  pixel778  pixel779  \\\n",
       "0       0  ...         0         0         0         0         0         0   \n",
       "1       0  ...         0         0         0         0         0         0   \n",
       "2       0  ...         0         0         0         0         0         0   \n",
       "3       0  ...         0         0         0         0         0         0   \n",
       "4       0  ...         0         0         0         0         0         0   \n",
       "\n",
       "   pixel780  pixel781  pixel782  pixel783  \n",
       "0         0         0         0         0  \n",
       "1         0         0         0         0  \n",
       "2         0         0         0         0  \n",
       "3         0         0         0         0  \n",
       "4         0         0         0         0  \n",
       "\n",
       "[5 rows x 784 columns]"
      ]
     },
     "execution_count": 16,
     "metadata": {},
     "output_type": "execute_result"
    }
   ],
   "source": [
    "submission_df = pd.DataFrame(columns = ['ImageId', 'Label'])\n",
    "test_df.head()"
   ]
  },
  {
   "cell_type": "code",
   "execution_count": 17,
   "id": "74415f00",
   "metadata": {
    "execution": {
     "iopub.execute_input": "2022-05-01T17:19:58.921394Z",
     "iopub.status.busy": "2022-05-01T17:19:58.921138Z",
     "iopub.status.idle": "2022-05-01T17:20:50.269597Z",
     "shell.execute_reply": "2022-05-01T17:20:50.269073Z"
    },
    "papermill": {
     "duration": 51.914598,
     "end_time": "2022-05-01T17:20:50.553339",
     "exception": false,
     "start_time": "2022-05-01T17:19:58.638741",
     "status": "completed"
    },
    "tags": []
   },
   "outputs": [
    {
     "data": {
      "text/html": [
       "<div>\n",
       "<style scoped>\n",
       "    .dataframe tbody tr th:only-of-type {\n",
       "        vertical-align: middle;\n",
       "    }\n",
       "\n",
       "    .dataframe tbody tr th {\n",
       "        vertical-align: top;\n",
       "    }\n",
       "\n",
       "    .dataframe thead th {\n",
       "        text-align: right;\n",
       "    }\n",
       "</style>\n",
       "<table border=\"1\" class=\"dataframe\">\n",
       "  <thead>\n",
       "    <tr style=\"text-align: right;\">\n",
       "      <th></th>\n",
       "      <th>ImageId</th>\n",
       "      <th>Label</th>\n",
       "    </tr>\n",
       "  </thead>\n",
       "  <tbody>\n",
       "    <tr>\n",
       "      <th>0</th>\n",
       "      <td>1</td>\n",
       "      <td>2</td>\n",
       "    </tr>\n",
       "    <tr>\n",
       "      <th>1</th>\n",
       "      <td>2</td>\n",
       "      <td>0</td>\n",
       "    </tr>\n",
       "    <tr>\n",
       "      <th>2</th>\n",
       "      <td>3</td>\n",
       "      <td>9</td>\n",
       "    </tr>\n",
       "    <tr>\n",
       "      <th>3</th>\n",
       "      <td>4</td>\n",
       "      <td>9</td>\n",
       "    </tr>\n",
       "    <tr>\n",
       "      <th>4</th>\n",
       "      <td>5</td>\n",
       "      <td>3</td>\n",
       "    </tr>\n",
       "  </tbody>\n",
       "</table>\n",
       "</div>"
      ],
      "text/plain": [
       "  ImageId Label\n",
       "0       1     2\n",
       "1       2     0\n",
       "2       3     9\n",
       "3       4     9\n",
       "4       5     3"
      ]
     },
     "execution_count": 17,
     "metadata": {},
     "output_type": "execute_result"
    }
   ],
   "source": [
    "for i in range(len(test_df.index)):\n",
    "    submission_df.loc[i] = [i + 1 , np.argmax(preds[i])]\n",
    "submission_df.head()"
   ]
  },
  {
   "cell_type": "code",
   "execution_count": 18,
   "id": "2d5d9552",
   "metadata": {
    "execution": {
     "iopub.execute_input": "2022-05-01T17:20:51.133979Z",
     "iopub.status.busy": "2022-05-01T17:20:51.133472Z",
     "iopub.status.idle": "2022-05-01T17:20:51.140390Z",
     "shell.execute_reply": "2022-05-01T17:20:51.139162Z"
    },
    "papermill": {
     "duration": 0.301597,
     "end_time": "2022-05-01T17:20:51.143168",
     "exception": false,
     "start_time": "2022-05-01T17:20:50.841571",
     "status": "completed"
    },
    "tags": []
   },
   "outputs": [
    {
     "name": "stdout",
     "output_type": "stream",
     "text": [
      "pixel0      0\n",
      "pixel1      0\n",
      "pixel2      0\n",
      "pixel3      0\n",
      "pixel4      0\n",
      "           ..\n",
      "pixel779    0\n",
      "pixel780    0\n",
      "pixel781    0\n",
      "pixel782    0\n",
      "pixel783    0\n",
      "Name: 27999, Length: 784, dtype: int64\n",
      "ImageId    28000\n",
      "Label          2\n",
      "Name: 27999, dtype: object\n"
     ]
    }
   ],
   "source": [
    "print(test_df.loc[len(test_df.index) - 1])\n",
    "print(submission_df.loc[len(submission_df.index) - 1])"
   ]
  },
  {
   "cell_type": "code",
   "execution_count": 19,
   "id": "3d4b7bd7",
   "metadata": {
    "execution": {
     "iopub.execute_input": "2022-05-01T17:20:51.726421Z",
     "iopub.status.busy": "2022-05-01T17:20:51.726190Z",
     "iopub.status.idle": "2022-05-01T17:20:51.777852Z",
     "shell.execute_reply": "2022-05-01T17:20:51.776972Z"
    },
    "papermill": {
     "duration": 0.347094,
     "end_time": "2022-05-01T17:20:51.780398",
     "exception": false,
     "start_time": "2022-05-01T17:20:51.433304",
     "status": "completed"
    },
    "tags": []
   },
   "outputs": [],
   "source": [
    "submission_df.to_csv('submission.csv', index = False)"
   ]
  }
 ],
 "metadata": {
  "kernelspec": {
   "display_name": "Python 3",
   "language": "python",
   "name": "python3"
  },
  "language_info": {
   "codemirror_mode": {
    "name": "ipython",
    "version": 3
   },
   "file_extension": ".py",
   "mimetype": "text/x-python",
   "name": "python",
   "nbconvert_exporter": "python",
   "pygments_lexer": "ipython3",
   "version": "3.7.12"
  },
  "papermill": {
   "default_parameters": {},
   "duration": 129.948576,
   "end_time": "2022-05-01T17:20:55.051885",
   "environment_variables": {},
   "exception": null,
   "input_path": "__notebook__.ipynb",
   "output_path": "__notebook__.ipynb",
   "parameters": {},
   "start_time": "2022-05-01T17:18:45.103309",
   "version": "2.3.4"
  }
 },
 "nbformat": 4,
 "nbformat_minor": 5
}
